{
 "cells": [
  {
   "cell_type": "markdown",
   "id": "1922ad38",
   "metadata": {},
   "source": [
    "## Imports"
   ]
  },
  {
   "cell_type": "code",
   "execution_count": 1,
   "id": "76009778",
   "metadata": {},
   "outputs": [],
   "source": [
    "import numpy as np\n",
    "import matplotlib.pyplot as plt\n",
    "import torch \n",
    "import torchvision\n",
    "from torch import nn\n",
    "from torch.utils.data import DataLoader, TensorDataset\n",
    "from torchvision.transforms import ToTensor\n",
    "import math\n",
    "from tqdm import tqdm\n",
    "import math, matplotlib.pyplot as plt\n",
    "from torch.distributions.normal import Normal"
   ]
  },
  {
   "cell_type": "code",
   "execution_count": 2,
   "id": "98f3f7e1",
   "metadata": {},
   "outputs": [
    {
     "name": "stdout",
     "output_type": "stream",
     "text": [
      "2.8.0+cu128 0.23.0+cu128\n",
      "cuda available: True\n",
      "cudnn version: 91002\n",
      "Device name: NVIDIA GeForce RTX 2060\n"
     ]
    }
   ],
   "source": [
    "print(torch.__version__, torchvision.__version__)\n",
    "print(\"cuda available:\", torch.cuda.is_available())\n",
    "print(\"cudnn version:\", torch.backends.cudnn.version())\n",
    "# Get device name\n",
    "if torch.cuda.is_available():\n",
    "    print(\"Device name:\", torch.cuda.get_device_name(0))"
   ]
  },
  {
   "cell_type": "code",
   "execution_count": 3,
   "id": "961a25e4",
   "metadata": {},
   "outputs": [],
   "source": [
    "torch.set_default_dtype(torch.float64)\n",
    "#device = torch.accelerator.current_accelerator().type if torch.accelerator.is_available() else \"cpu\"\n",
    "device = \"cuda\" if torch.cuda.is_available() else \"cpu\""
   ]
  },
  {
   "cell_type": "markdown",
   "id": "573bcf69",
   "metadata": {},
   "source": [
    "## NN structure"
   ]
  },
  {
   "cell_type": "code",
   "execution_count": 4,
   "id": "bf1c2160",
   "metadata": {},
   "outputs": [],
   "source": [
    "class Net(torch.nn.Module):\n",
    "    def __init__(self, d_in = 1, d_hidden = 20):\n",
    "        super().__init__()\n",
    "        self.mlp = torch.nn.Sequential(\n",
    "            torch.nn.Linear(d_in, d_hidden), torch.nn.Softplus(),\n",
    "            torch.nn.Linear(d_hidden, d_hidden), torch.nn.Softplus(),\n",
    "            torch.nn.Linear(d_hidden, d_hidden), torch.nn.Softplus(),\n",
    "            torch.nn.Linear(d_hidden, d_hidden), torch.nn.Softplus(),\n",
    "            torch.nn.Linear(d_hidden, 1)\n",
    "        )\n",
    "    def forward(self, x):  # x: [B,1] -> [B,1]\n",
    "        return self.mlp(x)\n",
    "\n",
    "net = Net(d_in = 1, d_hidden = 20).to(device)\n",
    "opt = torch.optim.AdamW(net.parameters(), lr=1e-3, weight_decay=0.0)\n",
    "mse = torch.nn.MSELoss()"
   ]
  },
  {
   "cell_type": "markdown",
   "id": "9a4a5d0c",
   "metadata": {},
   "source": [
    "## Black Scholes"
   ]
  },
  {
   "cell_type": "code",
   "execution_count": 33,
   "id": "c43b54c6",
   "metadata": {},
   "outputs": [],
   "source": [
    "def sample_S0_batch(B, mean=100.0, std=100.0, device=device):\n",
    "    # Could be any distribution over S0; lognormal or normal > 0\n",
    "    S0 = torch.clamp(torch.randn(B,1,device=device)*std + mean, min=1e-3)\n",
    "    return S0\n",
    "\n",
    "def bs_batch(\n",
    "    S0_batch: torch.Tensor,\n",
    "    K: float, r: float, sigma: float, dt: float,\n",
    "    device=None,\n",
    "    anti: bool = True,\n",
    "    discount: bool = True,\n",
    "):\n",
    "    \"\"\"\n",
    "    Returns:\n",
    "      y:    [B,1] payoffs (possibly discounted, antithetic-averaged)\n",
    "      dydS: [B,1] pathwise dY/dS0 (same discounting (should maybe not discount) + antithetic averaging)\n",
    "    \"\"\"\n",
    "    if device is None:\n",
    "        device = S0_batch.device\n",
    "    S0 = S0_batch.view(-1, 1)\n",
    "    B  = S0.shape[0]\n",
    "\n",
    "    Z  = torch.randn(B, 1, device=device)\n",
    "    drift = (r - 0.5 * sigma**2) * dt\n",
    "    vol   = sigma * math.sqrt(dt)\n",
    "\n",
    "    # +Z path\n",
    "    ST1 = S0 * torch.exp(drift + vol * Z)\n",
    "    Y1  = torch.clamp(ST1 - K, min=0.0)\n",
    "    G1  = (ST1 > K).float() * (ST1 / S0)   # dY/dS0 for +Z\n",
    "\n",
    "    if anti:\n",
    "        # -Z path\n",
    "        ST2 = S0 * torch.exp(drift - vol * Z)\n",
    "        Y2  = torch.clamp(ST2 - K, min=0.0)\n",
    "        G2  = (ST2 > K).float() * (ST2 / S0)  # dY/dS0 for -Z\n",
    "\n",
    "        Y   = 0.5 * (Y1 + Y2)\n",
    "        G   = 0.5 * (G1 + G2)\n",
    "    else:\n",
    "        Y, G = Y1, G1\n",
    "\n",
    "    if discount:\n",
    "        disc = torch.exp(torch.tensor(-r*dt, device=device))\n",
    "        Y = Y * disc\n",
    "        G = G * disc  # constant factor; keeps price–delta internally consistent\n",
    "\n",
    "    return Y, G"
   ]
  },
  {
   "cell_type": "code",
   "execution_count": 34,
   "id": "3f5013c5",
   "metadata": {},
   "outputs": [],
   "source": [
    "# running mean/std for online normalization (simple EMA)\n",
    "x_mu = torch.zeros(1,1, device=device); x_sd = torch.ones(1,1, device=device)\n",
    "y_mu = torch.zeros(1,1, device=device); y_sd = torch.ones(1,1, device=device)\n",
    "alpha = 0.01  # EMA smoothing\n",
    "\n",
    "def norm_update(x, y):\n",
    "    global x_mu, x_sd, y_mu, y_sd\n",
    "    with torch.no_grad():\n",
    "        xb_mu = x.mean(dim=0, keepdim=True)\n",
    "        xb_sd  = x.std(dim=0, keepdim=True) + 1e-6\n",
    "        yb_mu = y.mean(dim=0, keepdim=True)\n",
    "        yb_sd = y.std(dim=0, keepdim=True) + 1e-6\n",
    "        x_mu = (1-alpha)*x_mu + alpha*xb_mu\n",
    "        x_sd = (1-alpha)*x_sd + alpha*xb_sd\n",
    "        y_mu = (1-alpha)*y_mu + alpha*yb_mu\n",
    "        y_sd = (1-alpha)*y_sd + alpha*yb_sd\n",
    "\n",
    "def norm_x(x): return (x - x_mu) / x_sd\n",
    "def norm_y(y): return (y - y_mu) / y_sd"
   ]
  },
  {
   "cell_type": "code",
   "execution_count": 35,
   "id": "00f88312",
   "metadata": {},
   "outputs": [],
   "source": [
    "# fixed contract/params\n",
    "K, r, sigma, dt = 110.0, 0.00, 0.2, 1.0\n",
    "\n",
    "for _ in range(20):\n",
    "    S0 = sample_S0_batch(B=8192*4)\n",
    "    y, _ = bs_batch(S0, K, r, sigma, dt, device=device, anti=True)\n",
    "    # Discount here to match standard BS PV\n",
    "    y = y * torch.exp(torch.tensor(-r*dt, device=device))\n",
    "    norm_update(S0, y)"
   ]
  },
  {
   "cell_type": "code",
   "execution_count": 40,
   "id": "aaf1914e",
   "metadata": {},
   "outputs": [
    {
     "name": "stderr",
     "output_type": "stream",
     "text": [
      "Training: 100%|█████████████████████████████████████| 1000/1000 [00:07<00:00, 131.86it/s, loss=0.12]\n"
     ]
    }
   ],
   "source": [
    "# For resetting \n",
    "torch.manual_seed(42)\n",
    "net = Net(d_in=1, d_hidden=20).to(device)\n",
    "opt = torch.optim.AdamW(net.parameters(), lr=1e-3, weight_decay=0.0)\n",
    "\n",
    "steps = 1000\n",
    "pbar = tqdm(range(steps), desc=\"Training\", ncols=100)\n",
    "for step in pbar:\n",
    "    S0 = sample_S0_batch(B=1024)\n",
    "    y, dydS = bs_batch(S0, K, r, sigma, dt, device=device, anti=True)\n",
    "\n",
    "    # update running stats\n",
    "    norm_update(S0, y)\n",
    "\n",
    "    # scale gradient labels for normalized coordinates\n",
    "    grad_scale = (x_sd / y_sd).detach()\n",
    "    dydx_norm = dydS * grad_scale  # [B,1]\n",
    "\n",
    "    # gentle lambda ramp: approx 0 -> 1 over first steps/2 steps\n",
    "    lamda = 1.0 + 2.0 * min(step/(steps/2), 1.0)\n",
    "\n",
    "    # forward\n",
    "    xhat = norm_x(S0).requires_grad_(True)     # [B,1]\n",
    "    yhat_norm = net(xhat).squeeze(-1)          # [B]\n",
    "    y_norm = norm_y(y).squeeze(-1)             # [B]\n",
    "\n",
    "    # autograd wrt normalized input\n",
    "    dyhat_dxhat = torch.autograd.grad(yhat_norm.sum(), xhat, create_graph=True)[0].squeeze(-1)\n",
    "\n",
    "    loss = mse(yhat_norm, y_norm) + lamda * mse(dyhat_dxhat, dydx_norm.squeeze(-1))\n",
    "\n",
    "    opt.zero_grad()\n",
    "    loss.backward()\n",
    "    opt.step()\n",
    "\n",
    "    if (step+1) % 20 == 0:\n",
    "        pbar.set_postfix(loss=float(loss))"
   ]
  },
  {
   "cell_type": "code",
   "execution_count": 41,
   "id": "1144f110",
   "metadata": {},
   "outputs": [
    {
     "data": {
      "image/png": "[encoded data removed]",
      "text/plain": [
       "<Figure size 1200x500 with 2 Axes>"
      ]
     },
     "metadata": {},
     "output_type": "display_data"
    },
    {
     "name": "stdout",
     "output_type": "stream",
     "text": [
      "RMSE price=0.1548  RMSE delta=0.0092\n"
     ]
    }
   ],
   "source": [
    "def bs_price_delta_discounted(S, K, r, sigma, T):\n",
    "    S = torch.as_tensor(S, dtype=torch.float32, device=device)\n",
    "    std = sigma * math.sqrt(T)\n",
    "    d1  = (torch.log(S / K) + (r + 0.5*sigma**2) * T) / std\n",
    "    d2  = d1 - std\n",
    "    Phi = Normal(0.,1.).cdf\n",
    "    price = S*Phi(d1) - K*torch.exp(torch.tensor(-r*T, device=device))*Phi(d2)\n",
    "    delta = Phi(d1)\n",
    "    return price, delta\n",
    "\n",
    "# grid\n",
    "S0_grid = torch.linspace(1.0, 200.0, 500, device=device).view(-1,1)\n",
    "\n",
    "# ground truth (DISCOUNTED)\n",
    "with torch.no_grad():\n",
    "    price_true, delta_true = bs_price_delta_discounted(S0_grid, K, r, sigma, dt)\n",
    "\n",
    "# model predictions in ORIGINAL units\n",
    "xhat = ((S0_grid - x_mu) / x_sd).detach().clone().requires_grad_(True)\n",
    "yhat_norm = net(xhat)                                   # [B,1] or [B]\n",
    "dyhat_dxhat = torch.autograd.grad(yhat_norm.sum(), xhat, create_graph=False)[0]  # [B,1]\n",
    "\n",
    "price_pred = y_mu + y_sd * yhat_norm                    # de-normalized price\n",
    "delta_pred = (y_sd / x_sd) * dyhat_dxhat                # de-normalized delta\n",
    "\n",
    "# plot\n",
    "S = S0_grid.detach().cpu().view(-1)\n",
    "plt.figure(figsize=(12,5))\n",
    "plt.subplot(1,2,1)\n",
    "plt.plot(S, price_true.detach().cpu().view(-1), label='BS price (analytic)')\n",
    "plt.plot(S, price_pred.detach().cpu().view(-1), '--', label='NN price')\n",
    "plt.xlabel('S0'); plt.ylabel('Price'); plt.title('European Call'); plt.grid(); plt.legend()\n",
    "\n",
    "plt.subplot(1,2,2)\n",
    "plt.plot(S, delta_true.detach().cpu().view(-1), label='BS delta (analytic)')\n",
    "plt.plot(S, delta_pred.detach().cpu().view(-1), '--', label='NN delta')\n",
    "plt.xlabel('S0'); plt.ylabel('Delta'); plt.title('Delta'); plt.grid(); plt.legend()\n",
    "plt.show()\n",
    "\n",
    "# quick metrics\n",
    "rmse_price = torch.sqrt(((price_pred - price_true)**2).mean()).item()\n",
    "rmse_delta = torch.sqrt(((delta_pred - delta_true)**2).mean()).item()\n",
    "print(f\"RMSE price={rmse_price:.4f}  RMSE delta={rmse_delta:.4f}\")\n"
   ]
  },
  {
   "cell_type": "markdown",
   "id": "7f9539e0",
   "metadata": {},
   "source": [
    "## Black Scholes - Multi differentials"
   ]
  },
  {
   "cell_type": "markdown",
   "id": "f3d955ac",
   "metadata": {},
   "source": [
    "## Bermudan Options"
   ]
  }
 ],
 "metadata": {
  "kernelspec": {
   "display_name": "diff-ml",
   "language": "python",
   "name": "python3"
  },
  "language_info": {
   "codemirror_mode": {
    "name": "ipython",
    "version": 3
   },
   "file_extension": ".py",
   "mimetype": "text/x-python",
   "name": "python",
   "nbconvert_exporter": "python",
   "pygments_lexer": "ipython3",
   "version": "3.13.7"
  }
 },
 "nbformat": 4,
 "nbformat_minor": 5
}
